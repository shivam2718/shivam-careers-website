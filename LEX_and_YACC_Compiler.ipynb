{
  "nbformat": 4,
  "nbformat_minor": 0,
  "metadata": {
    "colab": {
      "provenance": [],
      "include_colab_link": true
    },
    "kernelspec": {
      "name": "python3",
      "display_name": "Python 3"
    },
    "language_info": {
      "name": "python"
    }
  },
  "cells": [
    {
      "cell_type": "markdown",
      "metadata": {
        "id": "view-in-github",
        "colab_type": "text"
      },
      "source": [
        "<a href=\"https://colab.research.google.com/github/shivam2718/shivam-careers-website/blob/main/LEX_and_YACC_Compiler.ipynb\" target=\"_parent\"><img src=\"https://colab.research.google.com/assets/colab-badge.svg\" alt=\"Open In Colab\"/></a>"
      ]
    },
    {
      "cell_type": "markdown",
      "source": [
        "# LEX and YACC Compiler in Colab\n",
        "\n",
        "Drawbacks:\n",
        "* Regular interrupts (Ctrl+D, Ctrl+C) for shell won't work in Colab while inputting for program.\n",
        "<br>Workaround: Store your inputs in a txt file and pass it to the program."
      ],
      "metadata": {
        "id": "Az09-x9PnHPq"
      }
    },
    {
      "cell_type": "code",
      "source": [
        "#@title Install *prerqeuisites* (run this cell first to work on LEX/YACC)\n",
        "\n",
        "!apt-get update\n",
        "!apt-get install -y flex bison gcc\n"
      ],
      "metadata": {
        "id": "CM_9N3RogX8y",
        "outputId": "ad190b53-528c-4cbc-c068-7624a5d2e2f4",
        "colab": {
          "base_uri": "https://localhost:8080/"
        }
      },
      "execution_count": 41,
      "outputs": [
        {
          "output_type": "stream",
          "name": "stdout",
          "text": [
            "\r0% [Working]\r            \rHit:1 https://cloud.r-project.org/bin/linux/ubuntu jammy-cran40/ InRelease\n",
            "\r0% [Connecting to archive.ubuntu.com (185.125.190.83)] [Connecting to security.ubuntu.com (185.125.1\r                                                                                                    \rHit:2 https://developer.download.nvidia.com/compute/cuda/repos/ubuntu2204/x86_64  InRelease\n",
            "\r0% [Waiting for headers] [Waiting for headers] [Waiting for headers] [Connected to ppa.launchpadcont\r                                                                                                    \rHit:3 http://security.ubuntu.com/ubuntu jammy-security InRelease\n",
            "\r0% [Waiting for headers] [Waiting for headers] [Connected to ppa.launchpadcontent.net (185.125.190.8\r                                                                                                    \rHit:4 https://r2u.stat.illinois.edu/ubuntu jammy InRelease\n",
            "Hit:5 http://archive.ubuntu.com/ubuntu jammy InRelease\n",
            "Hit:6 http://archive.ubuntu.com/ubuntu jammy-updates InRelease\n",
            "Hit:7 http://archive.ubuntu.com/ubuntu jammy-backports InRelease\n",
            "Hit:8 https://ppa.launchpadcontent.net/deadsnakes/ppa/ubuntu jammy InRelease\n",
            "Hit:9 https://ppa.launchpadcontent.net/graphics-drivers/ppa/ubuntu jammy InRelease\n",
            "Hit:10 https://ppa.launchpadcontent.net/ubuntugis/ppa/ubuntu jammy InRelease\n",
            "Reading package lists... Done\n",
            "W: Skipping acquire of configured file 'main/source/Sources' as repository 'https://r2u.stat.illinois.edu/ubuntu jammy InRelease' does not seem to provide it (sources.list entry misspelt?)\n",
            "Reading package lists... Done\n",
            "Building dependency tree... Done\n",
            "Reading state information... Done\n",
            "bison is already the newest version (2:3.8.2+dfsg-1build1).\n",
            "flex is already the newest version (2.6.4-8build2).\n",
            "gcc is already the newest version (4:11.2.0-1ubuntu1).\n",
            "0 upgraded, 0 newly installed, 0 to remove and 45 not upgraded.\n"
          ]
        }
      ]
    },
    {
      "cell_type": "code",
      "source": [
        "%%writefile program.l\n",
        "%{\n",
        "#include <stdio.h>\n",
        "#include <unistd.h>\n",
        "%}\n",
        "%%\n",
        "\\+91[ ]?[7-9][0-9]{9}  printf(\"valid \\n\");\n",
        "0[ ]?[7-9][0-9]{9}     printf(\"valid \\n\");\n",
        ".*                     printf(\"not valid\");\n",
        "%%\n",
        "\n",
        "int yywrap(){\n",
        "  return 1;\n",
        "}\n",
        "\n",
        "int main (){\n",
        "  yylex();\n",
        "  return 0;\n",
        "}"
      ],
      "metadata": {
        "id": "T_vhaLuwHe6T",
        "outputId": "8460ba46-7d49-4a7e-f9ae-683ea5a6cb49",
        "colab": {
          "base_uri": "https://localhost:8080/"
        }
      },
      "execution_count": 69,
      "outputs": [
        {
          "output_type": "stream",
          "name": "stdout",
          "text": [
            "Overwriting program.l\n"
          ]
        }
      ]
    },
    {
      "cell_type": "markdown",
      "source": [
        "## Lex only"
      ],
      "metadata": {
        "id": "0IYbRG4He38g"
      }
    },
    {
      "cell_type": "code",
      "source": [
        "%%shell\n",
        "flex program.l"
      ],
      "metadata": {
        "id": "Vlg6D5-O9PZB",
        "outputId": "a6b077ef-4fc2-499c-99e9-d33aa73925c3",
        "colab": {
          "base_uri": "https://localhost:8080/"
        }
      },
      "execution_count": 70,
      "outputs": [
        {
          "output_type": "execute_result",
          "data": {
            "text/plain": []
          },
          "metadata": {},
          "execution_count": 70
        }
      ]
    },
    {
      "cell_type": "code",
      "source": [
        "%%shell\n",
        "    echo \"+91 9876543210\" | ./output\n",
        "    echo \"0 9876543210\" | ./output\n",
        "    echo \"9876543210\" | ./output\n",
        "    echo \"Invalid\" | ./output\n"
      ],
      "metadata": {
        "colab": {
          "base_uri": "https://localhost:8080/"
        },
        "id": "_nQ3Tbb9Dg5F",
        "outputId": "1f3117bf-91a0-48b3-9b52-fc3d2f00502c"
      },
      "execution_count": 72,
      "outputs": [
        {
          "output_type": "stream",
          "name": "stdout",
          "text": [
            "valid \n",
            "\n",
            "valid \n",
            "\n",
            "not valid\n",
            "not valid\n"
          ]
        },
        {
          "output_type": "execute_result",
          "data": {
            "text/plain": []
          },
          "metadata": {},
          "execution_count": 72
        }
      ]
    },
    {
      "cell_type": "code",
      "source": [
        "%%writefile prog.l\n",
        "%{\n",
        " #include <stdio.h>\n",
        "%}\n",
        "%%\n",
        "([0-2][0-9]|3[0-1])[/:]([0][1-9]|1[0-2])[/:][0-9]{4} printf(\"Valid Date\\n\");\n",
        ".* printf(\"Invalid Date\\n\");\n",
        "%%\n",
        "int yywrap(){\n",
        "    return 1;\n",
        "}\n",
        "int main(){\n",
        "    yylex();\n",
        "    return 0;\n",
        "}\n"
      ],
      "metadata": {
        "id": "5tgBd1ZGU3GM",
        "outputId": "3762c2b3-e6fe-4b55-86c0-6c73b9882943",
        "colab": {
          "base_uri": "https://localhost:8080/"
        }
      },
      "execution_count": 131,
      "outputs": [
        {
          "output_type": "stream",
          "name": "stdout",
          "text": [
            "Overwriting prog.l\n"
          ]
        }
      ]
    },
    {
      "cell_type": "code",
      "source": [
        "%%shell\n",
        "flex prog.l\n",
        "gcc -o output lex.yy.c -lfl\n",
        "echo \"20/06/2005\"| ./output"
      ],
      "metadata": {
        "id": "KsxQzoBpW3kF",
        "outputId": "2cc2fcd7-b21f-4b86-e54c-61669715f2ff",
        "colab": {
          "base_uri": "https://localhost:8080/"
        }
      },
      "execution_count": 132,
      "outputs": [
        {
          "output_type": "stream",
          "name": "stdout",
          "text": [
            "Valid Date\n",
            "\n"
          ]
        },
        {
          "output_type": "execute_result",
          "data": {
            "text/plain": []
          },
          "metadata": {},
          "execution_count": 132
        }
      ]
    },
    {
      "cell_type": "code",
      "source": [
        "%%writefile alphabet.l\n",
        "%{\n",
        "#include <stdio.h>\n",
        "%}\n",
        "\n",
        "%%\n",
        "[a-zA-Z]+ printf(\"given input is correct\");\n",
        ".*        printf(\"given input is not correct\");\n",
        "%%\n",
        "int main(){\n",
        "    yylex();\n",
        "    return 0;\n",
        "}\n",
        "int yywrap(){\n",
        "    return 1;\n",
        "}"
      ],
      "metadata": {
        "id": "KLl3i2PVbThU",
        "outputId": "52d6f11f-cd3e-4bd5-fbe6-a0973ecaa926",
        "colab": {
          "base_uri": "https://localhost:8080/"
        }
      },
      "execution_count": 133,
      "outputs": [
        {
          "output_type": "stream",
          "name": "stdout",
          "text": [
            "Writing alphabet.l\n"
          ]
        }
      ]
    },
    {
      "cell_type": "code",
      "source": [
        "%%shell\n",
        "flex alphabet.l\n",
        "gcc -o output lex.yy.c -lfl\n",
        "echo \"svgbdb\"| ./output"
      ],
      "metadata": {
        "id": "RF01cKhjfnnr",
        "outputId": "487c8d81-e259-4dfc-ab69-4f703a41df91",
        "colab": {
          "base_uri": "https://localhost:8080/"
        }
      },
      "execution_count": 51,
      "outputs": [
        {
          "output_type": "stream",
          "name": "stdout",
          "text": [
            "flex: can't open alphabet.l\n",
            "only alphabets\n",
            "\n"
          ]
        },
        {
          "output_type": "execute_result",
          "data": {
            "text/plain": []
          },
          "metadata": {},
          "execution_count": 51
        }
      ]
    },
    {
      "cell_type": "code",
      "source": [
        "%%writefile nums.l\n",
        "%{\n",
        "#include <stdio.h>\n",
        "#include<unistd.h>\n",
        "%}\n",
        "%%\n",
        "[0-9]+ printf(\"given i/p is a valid number\");\n",
        ".*     printf(\"given i/p is not valid\");\n",
        "%%\n",
        "int yywrap(){\n",
        "    return 1;\n",
        "}\n",
        "int main(){\n",
        "    yylex();\n",
        "    return 0;\n",
        "}"
      ],
      "metadata": {
        "colab": {
          "base_uri": "https://localhost:8080/"
        },
        "id": "MnhV7YFuf4EL",
        "outputId": "f712ae62-fdf3-467e-cc6a-beb6f03bdbca"
      },
      "execution_count": 168,
      "outputs": [
        {
          "output_type": "stream",
          "name": "stdout",
          "text": [
            "Overwriting nums.l\n"
          ]
        }
      ]
    },
    {
      "cell_type": "code",
      "source": [
        "%%shell\n",
        "flex nums.l\n",
        "gcc -o output lex.yy.c -lfl\n",
        "echo \"345\"| ./output"
      ],
      "metadata": {
        "id": "RTbaErKLfyl8",
        "outputId": "3634a96c-a3f5-4661-9a33-1a2ede0c4128",
        "colab": {
          "base_uri": "https://localhost:8080/"
        }
      },
      "execution_count": 169,
      "outputs": [
        {
          "output_type": "stream",
          "name": "stdout",
          "text": [
            "given i/p is a valid number\n"
          ]
        },
        {
          "output_type": "execute_result",
          "data": {
            "text/plain": []
          },
          "metadata": {},
          "execution_count": 169
        }
      ]
    },
    {
      "cell_type": "code",
      "source": [
        "%%writefile roll.l\n",
        "%{\n",
        "#include <stdio.h>\n",
        "%}\n",
        "%%\n",
        "20[1-2][0-9](BCD|BCS|BEC|BCY)0[0-2][0-9][0-9]   {printf(\"valid roll no\\n\");}\n",
        ".*                                              {printf(\"not valid\\n\");}\n",
        "%%\n",
        "int yywrap(){\n",
        "    return 1;\n",
        "}\n",
        "\n",
        "int main(){\n",
        "    yylex();\n",
        "    return 0;\n",
        "}\n"
      ],
      "metadata": {
        "id": "vR66kRmQkRLO",
        "outputId": "df04c007-1fa6-4364-fcff-f753d478d0b7",
        "colab": {
          "base_uri": "https://localhost:8080/"
        }
      },
      "execution_count": 46,
      "outputs": [
        {
          "output_type": "stream",
          "name": "stdout",
          "text": [
            "Writing rolls.l\n"
          ]
        }
      ]
    },
    {
      "cell_type": "code",
      "source": [
        "%%shell\n",
        "flex roll.l\n",
        "gcc lex.yy.c -o roll -lfl\n",
        "echo \"2023BCD0042\"| ./output"
      ],
      "metadata": {
        "id": "okHsvK5zzw3j",
        "outputId": "bb8c4bc5-3234-4fb8-ae76-e48e647a5190",
        "colab": {
          "base_uri": "https://localhost:8080/"
        }
      },
      "execution_count": 173,
      "outputs": [
        {
          "output_type": "stream",
          "name": "stdout",
          "text": [
            "valid roll no\n",
            "\n"
          ]
        },
        {
          "output_type": "execute_result",
          "data": {
            "text/plain": []
          },
          "metadata": {},
          "execution_count": 173
        }
      ]
    },
    {
      "cell_type": "code",
      "source": [],
      "metadata": {
        "id": "cIChFUICtzrk",
        "outputId": "02bef899-cabc-491b-cb0c-5a42493ada89",
        "colab": {
          "base_uri": "https://localhost:8080/"
        }
      },
      "execution_count": 171,
      "outputs": [
        {
          "output_type": "stream",
          "name": "stdout",
          "text": [
            "given i/p is not valid\n"
          ]
        },
        {
          "output_type": "execute_result",
          "data": {
            "text/plain": []
          },
          "metadata": {},
          "execution_count": 171
        }
      ]
    },
    {
      "cell_type": "code",
      "source": [
        "%%writefile switch.l\n",
        "%{\n",
        "#include <stdio.h>\n",
        "%}\n",
        "\n",
        "%%\n",
        "switch[ ]*\\([ ]*[a-zA-Z_][a-zA-Z0-9_]*[ ]*\\)[ ]*\\{      {printf(\"Valid switch statement\\n\");}\n",
        "case[ \\t]+[0-9]+[ \\t]*:                                         {printf(\"Valid case statement\\n\");}\n",
        "default:                                                  {printf(\"Valid default statement\\n\");}\n",
        "break;                                                    {printf(\"Valid break statement\\n\");}\n",
        "[{};]                                                     {printf(\"Valid punctuation\\n\");}\n",
        "[ \\t\\n]+                                                  {/* Ignore whitespace and newlines */}\n",
        ".*                                                        {}\n",
        "\n",
        "%%\n",
        "\n",
        "int yywrap() {\n",
        "    return 1;\n",
        "}\n",
        "\n",
        "int main() {\n",
        "    yylex();\n",
        "    return 0;\n",
        "}\n"
      ],
      "metadata": {
        "id": "d4aJnLLHuW5r",
        "outputId": "7467b7d9-9ad8-4912-e1d7-e32376b1086c",
        "colab": {
          "base_uri": "https://localhost:8080/"
        }
      },
      "execution_count": 44,
      "outputs": [
        {
          "output_type": "stream",
          "name": "stdout",
          "text": [
            "Overwriting switch.l\n"
          ]
        }
      ]
    },
    {
      "cell_type": "code",
      "source": [
        "%%writefile input.txt\n",
        "switch (choice) {\n",
        "    case 1:\n",
        "        printf(\"You chose option 1.\\n\");\n",
        "        break;\n",
        "    case 2:\n",
        "        printf(\"You chose option 2.\\n\");\n",
        "        break;\n",
        "    case 3:\n",
        "        printf(\"You chose option 3.\\n\");\n",
        "        break;\n",
        "    default:\n",
        "        printf(\"Invalid choice.\\n\");\n",
        "        break;\n",
        "}\n"
      ],
      "metadata": {
        "id": "DFO1n3BIvHYk",
        "outputId": "ff166b36-d9a3-4085-d573-64716ae20b6f",
        "colab": {
          "base_uri": "https://localhost:8080/"
        }
      },
      "execution_count": 36,
      "outputs": [
        {
          "output_type": "stream",
          "name": "stdout",
          "text": [
            "Overwriting input.txt\n"
          ]
        }
      ]
    },
    {
      "cell_type": "code",
      "source": [
        "%%shell\n",
        "flex switch.l\n",
        "gcc -o output lex.yy.c -lfl\n",
        "./output < input.txt\n"
      ],
      "metadata": {
        "id": "rHjfJzqPs2B9",
        "outputId": "96565b42-9f04-4f9a-93d7-cef4fb262d8c",
        "colab": {
          "base_uri": "https://localhost:8080/"
        }
      },
      "execution_count": 45,
      "outputs": [
        {
          "output_type": "stream",
          "name": "stdout",
          "text": [
            "Valid switch statement\n",
            "Valid case statement\n",
            "Valid break statement\n",
            "Valid case statement\n",
            "Valid break statement\n",
            "Valid case statement\n",
            "Valid break statement\n",
            "Valid default statement\n",
            "Valid break statement\n",
            "Valid punctuation\n"
          ]
        },
        {
          "output_type": "execute_result",
          "data": {
            "text/plain": []
          },
          "metadata": {},
          "execution_count": 45
        }
      ]
    },
    {
      "cell_type": "code",
      "source": [
        "%%writefile spaces.l\n",
        "%{\n",
        "#include <stdio.h>\n",
        "#include <unistd.h>  // Required for isatty() and fileno()\n",
        "\n",
        "int line_count = 0;\n",
        "int space_count = 0;\n",
        "int tab_count = 0;\n",
        "int other_count = 0;\n",
        "%}\n",
        "\n",
        "%%\n",
        "\\n      { line_count++; }\n",
        "[ ]     { space_count++; }  // Match only spaces\n",
        "[\\t]    { tab_count++; }    // Match only tabs\n",
        ".       { other_count++; }\n",
        "%%\n",
        "\n",
        "int main() {\n",
        "    yylex();\n",
        "\n",
        "    printf(\"No. of lines=%d\\n\", line_count);\n",
        "    printf(\"No. of spaces=%d\\n\", space_count);\n",
        "    printf(\"No. of tabs=%d\\n\", tab_count);\n",
        "    printf(\"No. of other characters=%d\\n\", other_count);\n",
        "\n",
        "    return 0;\n",
        "}\n",
        "\n",
        "int yywrap() {\n",
        "    return 1;\n",
        "}"
      ],
      "metadata": {
        "id": "ZpfZOkt0xjWR",
        "outputId": "1579c7b9-a8a9-42bd-86a1-b28e9ed74908",
        "colab": {
          "base_uri": "https://localhost:8080/"
        }
      },
      "execution_count": 7,
      "outputs": [
        {
          "output_type": "stream",
          "name": "stdout",
          "text": [
            "Overwriting spaces.l\n"
          ]
        }
      ]
    },
    {
      "cell_type": "code",
      "source": [
        "%%writefile input.txt\n",
        "Hello   World\n",
        "Line with spaces and    tabs"
      ],
      "metadata": {
        "id": "BAihCJp-08Re",
        "outputId": "1c7028e4-948c-4d89-846d-0a789b7f6d60",
        "colab": {
          "base_uri": "https://localhost:8080/"
        }
      },
      "execution_count": 27,
      "outputs": [
        {
          "output_type": "stream",
          "name": "stdout",
          "text": [
            "Overwriting input.txt\n"
          ]
        }
      ]
    },
    {
      "cell_type": "code",
      "source": [
        "%%shell\n",
        "flex spaces.l\n",
        "gcc -o output lex.yy.c -lfl\n",
        "./output <input.txt"
      ],
      "metadata": {
        "id": "M_h1kR6g1LSn",
        "outputId": "d60cd2a4-0382-437f-85b2-3ac01db8ff74",
        "colab": {
          "base_uri": "https://localhost:8080/"
        }
      },
      "execution_count": 26,
      "outputs": [
        {
          "output_type": "stream",
          "name": "stdout",
          "text": [
            "No. of lines=3\n",
            "No. of spaces=1\n",
            "No. of tabs=0\n",
            "No. of other characters=15\n"
          ]
        },
        {
          "output_type": "execute_result",
          "data": {
            "text/plain": []
          },
          "metadata": {},
          "execution_count": 26
        }
      ]
    },
    {
      "cell_type": "code",
      "source": [
        "%%writefile only.l\n",
        "%{\n",
        "#include <stdio.h>\n",
        "%}\n",
        "%%\n",
        "^[0-9]+$     printf(\"only numbers\\n\");\n",
        "^[a-zA-Z]+$  printf(\"only alphabets\\n\");\n",
        ".*           printf(\"invalid\\n\");\n",
        "%%\n",
        "int yywrap() {\n",
        "    return 1;\n",
        "}\n",
        "int main() {\n",
        "    yylex(); // Call the lexer\n",
        "    return 0;\n",
        "}\n",
        "\n",
        ""
      ],
      "metadata": {
        "id": "vwWVkFP21dkT",
        "outputId": "2c3b4360-f0cf-4cec-f035-3c98c34b9428",
        "colab": {
          "base_uri": "https://localhost:8080/"
        }
      },
      "execution_count": 48,
      "outputs": [
        {
          "output_type": "stream",
          "name": "stdout",
          "text": [
            "Overwriting only.l\n"
          ]
        }
      ]
    },
    {
      "cell_type": "code",
      "source": [
        "%%writefile input1.txt\n",
        "hello\n",
        "1234\n",
        "231yhb"
      ],
      "metadata": {
        "id": "WEv3vt3pGspn",
        "outputId": "243d2dd3-44b5-4636-f61e-89b58a4383f8",
        "colab": {
          "base_uri": "https://localhost:8080/"
        }
      },
      "execution_count": 49,
      "outputs": [
        {
          "output_type": "stream",
          "name": "stdout",
          "text": [
            "Overwriting input1.txt\n"
          ]
        }
      ]
    },
    {
      "cell_type": "code",
      "source": [
        "%%shell\n",
        "flex only.l\n",
        "gcc -o output lex.yy.c -lfl\n",
        "./output <input1.txt"
      ],
      "metadata": {
        "id": "xWQO35RgG4py",
        "outputId": "323e11a3-8931-4b75-e84c-b74acfddd99d",
        "colab": {
          "base_uri": "https://localhost:8080/"
        }
      },
      "execution_count": 50,
      "outputs": [
        {
          "output_type": "stream",
          "name": "stdout",
          "text": [
            "invalid\n",
            "\n",
            "only numbers\n",
            "\n",
            "invalid\n",
            "\n"
          ]
        },
        {
          "output_type": "execute_result",
          "data": {
            "text/plain": []
          },
          "metadata": {},
          "execution_count": 50
        }
      ]
    },
    {
      "cell_type": "code",
      "source": [
        "%%writefile binary.l\n",
        "%{\n",
        "#include <stdio.h>\n",
        "%}\n",
        "\n",
        "%%\n",
        "^(0|(10))*$    { printf(\"valid\"); }\n",
        ".*        {printf(\"not valid\");}\n",
        "%%\n",
        "\n",
        "int yywrap() {\n",
        "    return 1;\n",
        "}\n"
      ],
      "metadata": {
        "id": "XhPPxgvdHmkk",
        "outputId": "b82e3f9a-809c-4d0c-e448-dd3dd8dfa75a",
        "colab": {
          "base_uri": "https://localhost:8080/"
        }
      },
      "execution_count": 104,
      "outputs": [
        {
          "output_type": "stream",
          "name": "stdout",
          "text": [
            "Overwriting binary.l\n"
          ]
        }
      ]
    },
    {
      "cell_type": "code",
      "source": [],
      "metadata": {
        "id": "bUkRVgQGcezL"
      },
      "execution_count": null,
      "outputs": []
    },
    {
      "cell_type": "code",
      "source": [
        "%%shell\n",
        "flex binary.l\n",
        "gcc -o output lex.yy.c -lfl\n",
        "echo \"000010001000010\"| ./output"
      ],
      "metadata": {
        "id": "K8D5wwBoPfsX",
        "outputId": "e1133448-4db1-448d-9be6-403b547864f1",
        "colab": {
          "base_uri": "https://localhost:8080/"
        }
      },
      "execution_count": 106,
      "outputs": [
        {
          "output_type": "stream",
          "name": "stdout",
          "text": [
            "valid\n"
          ]
        },
        {
          "output_type": "execute_result",
          "data": {
            "text/plain": []
          },
          "metadata": {},
          "execution_count": 106
        }
      ]
    },
    {
      "cell_type": "code",
      "source": [
        "%%writefile palindrome.l\n",
        "%{\n",
        "  #include <stdio.h>\n",
        "#include \"y.tab.h\"\n",
        "#include <string.h>\n",
        "char str[100];  // Store the input string from Lex\n",
        "%}\n",
        "%%\n",
        "[a-zA-Z]+ { strcpy(str, yytext); return STRING; }  // Match alphabetic strings\n",
        "%%\n",
        "\n",
        "int yywrap() {\n",
        "    return 1;  // Indicate the end of input for Lex\n",
        "}"
      ],
      "metadata": {
        "id": "E_YuK969Pqu9",
        "outputId": "f0c18c6e-a318-4e5b-bd4c-e7b50d64a756",
        "colab": {
          "base_uri": "https://localhost:8080/"
        }
      },
      "execution_count": 43,
      "outputs": [
        {
          "output_type": "stream",
          "name": "stdout",
          "text": [
            "Writing palindrome.l\n"
          ]
        }
      ]
    },
    {
      "cell_type": "code",
      "source": [
        "%%writefile yaccfile.y\n",
        "%{\n",
        "#include <stdio.h>\n",
        "#include <string.h>\n",
        "int yylex();                // Declare yylex to avoid warnings\n",
        "extern char str[100];       // External variable to store the input string from Lex\n",
        "void checkPalindrome();     // Function to check if the string is a palindrome\n",
        "%}\n",
        "\n",
        "%token STRING               // Define the token for Lex\n",
        "%%\n",
        "input:\n",
        "    STRING { checkPalindrome(); }  // When STRING is matched, call checkPalindrome\n",
        "    ;\n",
        "%%\n",
        "void checkPalindrome() {\n",
        "    int len = strlen(str);  // Calculate the length of the string\n",
        "    int isPalindrome = 1;   // Assume the string is a palindrome initially\n",
        "\n",
        "    // Compare characters from the beginning and end of the string\n",
        "    for (int i = 0; i < len / 2; i++) {\n",
        "        if (str[i] != str[len - i - 1]) {\n",
        "            isPalindrome = 0;  // If mismatch found, it's not a palindrome\n",
        "            break;\n",
        "        }\n",
        "    }\n",
        "\n",
        "    // Output the result\n",
        "    if (isPalindrome) {\n",
        "        printf(\"The string '%s' is a palindrome.\\n\", str);\n",
        "    } else {\n",
        "        printf(\"The string '%s' is not a palindrome.\\n\", str);\n",
        "    }\n",
        "}\n",
        "\n",
        "int yyerror(const char *msg) {  // Define yyerror here\n",
        "    fprintf(stderr, \"Error: %s\\n\", msg);\n",
        "    return 0;\n",
        "}\n",
        "\n",
        "int main() {\n",
        "    yyparse();  // Start parsing the input\n",
        "    return 0;\n",
        "}"
      ],
      "metadata": {
        "id": "nJW70vh9VBVB",
        "outputId": "7a149c90-ccec-481e-a77c-d0186e3d07e7",
        "colab": {
          "base_uri": "https://localhost:8080/"
        }
      },
      "execution_count": 44,
      "outputs": [
        {
          "output_type": "stream",
          "name": "stdout",
          "text": [
            "Overwriting yaccfile.y\n"
          ]
        }
      ]
    },
    {
      "cell_type": "code",
      "source": [
        "%%shell\n",
        "yacc -d yaccfile.y          # Generate y.tab.c and y.tab.h\n",
        "flex palindrome.l           # Generate lex.yy.c\n",
        "gcc y.tab.c lex.yy.c -o palindrome_checker -ll  # Compile and link\n",
        "echo \"madam\" | ./palindrome_checker  # Test the program with the input \"madam\"\n"
      ],
      "metadata": {
        "id": "DmlnySuHViTQ",
        "outputId": "5bf8d675-91cc-46c4-fe1e-1347cc228a00",
        "colab": {
          "base_uri": "https://localhost:8080/"
        }
      },
      "execution_count": 45,
      "outputs": [
        {
          "output_type": "stream",
          "name": "stdout",
          "text": [
            "\u001b[01m\u001b[Ky.tab.c:\u001b[m\u001b[K In function ‘\u001b[01m\u001b[Kyyparse\u001b[m\u001b[K’:\n",
            "\u001b[01m\u001b[Ky.tab.c:1153:7:\u001b[m\u001b[K \u001b[01;35m\u001b[Kwarning: \u001b[m\u001b[Kimplicit declaration of function ‘\u001b[01m\u001b[Kyyerror\u001b[m\u001b[K’; did you mean ‘\u001b[01m\u001b[Kyyerrok\u001b[m\u001b[K’? [\u001b[01;35m\u001b[K\u001b]8;;https://gcc.gnu.org/onlinedocs/gcc/Warning-Options.html#index-Wimplicit-function-declaration\u0007-Wimplicit-function-declaration\u001b]8;;\u0007\u001b[m\u001b[K]\n",
            " 1153 |       \u001b[01;35m\u001b[Kyyerror\u001b[m\u001b[K (YY_(\"syntax error\"));\n",
            "      |       \u001b[01;35m\u001b[K^~~~~~~\u001b[m\u001b[K\n",
            "      |       \u001b[32m\u001b[Kyyerrok\u001b[m\u001b[K\n",
            "The string 'madam' is a palindrome.\n",
            "\n"
          ]
        },
        {
          "output_type": "execute_result",
          "data": {
            "text/plain": []
          },
          "metadata": {},
          "execution_count": 45
        }
      ]
    },
    {
      "cell_type": "code",
      "source": [
        "%%writefile lexfile.l\n",
        "%{\n",
        "#include <stdio.h>\n",
        "#include \"y.tab.h\"  // Include YACC header for token definitions\n",
        "%}\n",
        "\n",
        "%%\n",
        "^(0|(10))+$  { return VALID_STRING; } // Match valid binary strings directly\n",
        ".*         ;      // Match any other input\n",
        "%%\n",
        "int yywrap() {\n",
        "    return 1; // Indicate end of input for Lex\n",
        "}"
      ],
      "metadata": {
        "id": "rkjWMOMzV-Dx",
        "outputId": "09e3b485-26f2-4a02-e1df-ec3f0940e57b",
        "colab": {
          "base_uri": "https://localhost:8080/"
        }
      },
      "execution_count": 46,
      "outputs": [
        {
          "output_type": "stream",
          "name": "stdout",
          "text": [
            "Overwriting lexfile.l\n"
          ]
        }
      ]
    },
    {
      "cell_type": "code",
      "source": [
        "%%writefile yaccfile.y\n",
        "%{\n",
        "#include <stdio.h>\n",
        "#include <stdlib.h>\n",
        "int yylex(); // Declare lexer function\n",
        "int yyerror(const char *msg); // Error handling function\n",
        "%}\n",
        "%token VALID_STRING ERROR\n",
        "%%\n",
        "input:\n",
        "    VALID_STRING { printf(\"Valid binary string.\\n\"); }\n",
        "    | ERROR { printf(\"Invalid binary string: Every 1 must be followed by at least one 0.\\n\"); exit(1); }\n",
        "    ;\n",
        "%%\n",
        "int yyerror(const char *msg) {\n",
        "    fprintf(stderr, \"Error: %s\\n\", msg);\n",
        "    exit(1);\n",
        "}\n",
        "\n",
        "int main() {\n",
        "    printf(\"Enter a binary string:\\n\");\n",
        "    yyparse(); // Start the parsing process\n",
        "    return 0;\n",
        "}\n"
      ],
      "metadata": {
        "id": "v1NQQseXwxdG",
        "outputId": "e951cd36-a0e2-4e7d-fa97-27dad1b87abc",
        "colab": {
          "base_uri": "https://localhost:8080/"
        }
      },
      "execution_count": 47,
      "outputs": [
        {
          "output_type": "stream",
          "name": "stdout",
          "text": [
            "Overwriting yaccfile.y\n"
          ]
        }
      ]
    },
    {
      "cell_type": "code",
      "source": [
        "%%shell\n",
        "yacc -d yaccfile.y           # Generate y.tab.c and y.tab.h\n",
        "flex lexfile.l               # Generate lex.yy.c\n",
        "gcc y.tab.c lex.yy.c -o binary_checker -ll  # Compile and link\n",
        "echo \"1010\" | ./binary_checker\n"
      ],
      "metadata": {
        "id": "bSnUERhXwy-w",
        "outputId": "581c05ac-de3e-44b8-deb9-85b79f22db93",
        "colab": {
          "base_uri": "https://localhost:8080/"
        }
      },
      "execution_count": 48,
      "outputs": [
        {
          "output_type": "stream",
          "name": "stdout",
          "text": [
            "Enter a binary string:\n",
            "Valid binary string.\n",
            "\n"
          ]
        },
        {
          "output_type": "execute_result",
          "data": {
            "text/plain": []
          },
          "metadata": {},
          "execution_count": 48
        }
      ]
    },
    {
      "cell_type": "code",
      "source": [
        "%%writefile yaccfile.y\n",
        "%{\n",
        "#include <stdio.h>\n",
        "#include <stdlib.h>\n",
        "#include <string.h>\n",
        "int yylex(); // Declaration for lexer\n",
        "int yyerror(const char *msg); // Error handling function\n",
        "void decimalToBinary(int num); // Function to convert decimal to binary\n",
        "%}\n",
        "\n",
        "%token DECIMAL\n",
        "\n",
        "%%\n",
        "input:\n",
        "    DECIMAL { decimalToBinary($1); }\n",
        "    ;\n",
        "%%\n",
        "void decimalToBinary(int num) {\n",
        "    char binary[32]; // To hold the binary representation\n",
        "    int index = 0;\n",
        "\n",
        "    // Convert decimal to binary\n",
        "    while (num > 0) {\n",
        "        binary[index++] = (num % 2) + '0';\n",
        "        num /= 2;\n",
        "    }\n",
        "\n",
        "    // Reverse the binary array to get the correct representation\n",
        "    printf(\"Binary: \");\n",
        "    for (int i = index - 1; i >= 0; i--) {\n",
        "        printf(\"%c\", binary[i]);\n",
        "    }\n",
        "    printf(\"\\n\");\n",
        "}\n",
        "\n",
        "int yyerror(const char *msg) {\n",
        "    fprintf(stderr, \"Error: %s\\n\", msg);\n",
        "    return 1;\n",
        "}\n",
        "\n",
        "int main() {\n",
        "    printf(\"Enter a decimal number:\\n\");\n",
        "    yyparse(); // Start the parsing process\n",
        "    return 0;\n",
        "}\n"
      ],
      "metadata": {
        "id": "3NLE0Vv5xOC9",
        "outputId": "1256102b-8f6f-4249-d486-ea40e8a53f37",
        "colab": {
          "base_uri": "https://localhost:8080/"
        }
      },
      "execution_count": 49,
      "outputs": [
        {
          "output_type": "stream",
          "name": "stdout",
          "text": [
            "Overwriting yaccfile.y\n"
          ]
        }
      ]
    },
    {
      "cell_type": "code",
      "source": [
        "%%writefile lexfile.l\n",
        "%{\n",
        "#include \"y.tab.h\" // Include YACC header for token definitions\n",
        "%}\n",
        "%%\n",
        "[0-9]+ { yylval = atoi(yytext); return DECIMAL; } // Match decimal numbers and convert to integer\n",
        "[^\\n]  { printf(\"Invalid input.\\n\"); return 0; } // Catch invalid input\n",
        "\\n     { return 0; }                             // End of input\n",
        "%%\n",
        "int yywrap() {\n",
        "    return 1; // Indicate end of input for Lex\n",
        "}\n"
      ],
      "metadata": {
        "id": "VfJye0GHASW8",
        "outputId": "29d9009e-e8db-41e2-bc6c-d620c1d88dbd",
        "colab": {
          "base_uri": "https://localhost:8080/"
        }
      },
      "execution_count": 50,
      "outputs": [
        {
          "output_type": "stream",
          "name": "stdout",
          "text": [
            "Overwriting lexfile.l\n"
          ]
        }
      ]
    },
    {
      "cell_type": "code",
      "source": [
        "%%shell\n",
        "yacc -d yaccfile.y           # Generate y.tab.c and y.tab.h\n",
        "flex lexfile.l               # Generate lex.yy.c\n",
        "gcc y.tab.c lex.yy.c -o decimal_to_binary -ll  # Compile and link everything\n",
        "echo \"45\" | ./decimal_to_binary                # Test with a decimal number\n"
      ],
      "metadata": {
        "id": "zfm1qZ_oAUbW",
        "outputId": "7e3aa923-050f-4602-9a00-8457f9a6cf50",
        "colab": {
          "base_uri": "https://localhost:8080/"
        }
      },
      "execution_count": 51,
      "outputs": [
        {
          "output_type": "stream",
          "name": "stdout",
          "text": [
            "Enter a decimal number:\n",
            "Binary: 101101\n"
          ]
        },
        {
          "output_type": "execute_result",
          "data": {
            "text/plain": []
          },
          "metadata": {},
          "execution_count": 51
        }
      ]
    },
    {
      "cell_type": "code",
      "source": [
        "%%writefile yaccfile.y\n",
        "%{\n",
        "#include <stdio.h>\n",
        "#include <stdlib.h>\n",
        "#include <string.h>\n",
        "#include <math.h>\n",
        "int yylex();\n",
        "int yyerror(const char *msg);\n",
        "void binaryToDecimal(const char *binary);\n",
        "%}\n",
        "\n",
        "%union {\n",
        "    char *str;\n",
        "}\n",
        "\n",
        "%token <str> BINARY\n",
        "\n",
        "%%\n",
        "input:\n",
        "    BINARY { binaryToDecimal($1); free($1); }\n",
        "    ;\n",
        "%%\n",
        "void binaryToDecimal(const char *binary) {\n",
        "    int decimal = 0;\n",
        "    int length = strlen(binary);\n",
        "\n",
        "    // Convert binary to decimal\n",
        "    for (int i = 0; i < length; i++) {\n",
        "        if (binary[i] == '1') {\n",
        "            decimal += (int)pow(2, length - 1 - i);\n",
        "        }\n",
        "    }\n",
        "\n",
        "    printf(\"Decimal: %d\\n\", decimal);\n",
        "}\n",
        "\n",
        "int yyerror(const char *msg) {\n",
        "    fprintf(stderr, \"Error: %s\\n\", msg);\n",
        "    return 1;\n",
        "}\n",
        "\n",
        "int main() {\n",
        "    printf(\"Enter a binary number:\\n\");\n",
        "    yyparse();\n",
        "    return 0;\n",
        "}\n"
      ],
      "metadata": {
        "id": "H8i3TwpNA9J6",
        "outputId": "37a4fa1d-3635-4a06-e5a1-1a2a61a2468e",
        "colab": {
          "base_uri": "https://localhost:8080/"
        }
      },
      "execution_count": 58,
      "outputs": [
        {
          "output_type": "stream",
          "name": "stdout",
          "text": [
            "Overwriting yaccfile.y\n"
          ]
        }
      ]
    },
    {
      "cell_type": "code",
      "source": [
        "%%writefile lexfile.l\n",
        "%{\n",
        "#include \"y.tab.h\"  // Include YACC header for token definitions\n",
        "#include <string.h> // For strdup function\n",
        "%}\n",
        "%%\n",
        "[01]+ { yylval.str = strdup(yytext); return BINARY; } // Match binary strings and pass as string\n",
        "[^\\n] { printf(\"Invalid input.\\n\"); return 0; }      // Catch invalid characters\n",
        "\\n    { return 0; }                                  // End of input\n",
        "%%\n",
        "int yywrap() {\n",
        "    return 1; // Indicate end of input for Lex\n",
        "}\n"
      ],
      "metadata": {
        "id": "EpEJeXczBAid",
        "outputId": "e5889fbe-0718-47ae-b918-2750c635e68f",
        "colab": {
          "base_uri": "https://localhost:8080/"
        }
      },
      "execution_count": 59,
      "outputs": [
        {
          "output_type": "stream",
          "name": "stdout",
          "text": [
            "Overwriting lexfile.l\n"
          ]
        }
      ]
    },
    {
      "cell_type": "code",
      "source": [
        "%%shell\n",
        "yacc -d yaccfile.y           # Generate y.tab.c and y.tab.h\n",
        "flex lexfile.l               # Generate lex.yy.c\n",
        "gcc y.tab.c lex.yy.c -o binary_to_decimal -ll -lm  # Compile and link math library\n",
        "echo \"1011\" | ./binary_to_decimal                  # Test with a binary number\n"
      ],
      "metadata": {
        "id": "Ly2NgLINBBxt",
        "outputId": "dd36ed67-6380-48e2-9aa3-4596f8d19a01",
        "colab": {
          "base_uri": "https://localhost:8080/"
        }
      },
      "execution_count": 60,
      "outputs": [
        {
          "output_type": "stream",
          "name": "stdout",
          "text": [
            "Enter a binary number:\n",
            "Decimal: 11\n"
          ]
        },
        {
          "output_type": "execute_result",
          "data": {
            "text/plain": []
          },
          "metadata": {},
          "execution_count": 60
        }
      ]
    },
    {
      "cell_type": "code",
      "source": [],
      "metadata": {
        "id": "JdOP6Fz3BEKS"
      },
      "execution_count": null,
      "outputs": []
    }
  ]
}